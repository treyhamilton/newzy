{
 "cells": [
  {
   "cell_type": "markdown",
   "id": "788db76a-e8e9-457c-a712-415e641a800e",
   "metadata": {},
   "source": [
    "# newzy_project"
   ]
  },
  {
   "cell_type": "code",
   "execution_count": 1,
   "id": "c7ff9b8c-45bd-477d-ae1a-cb656d18b86b",
   "metadata": {
    "tags": []
   },
   "outputs": [],
   "source": [
    "import pandas as pd\n",
    "import nltk\n",
    "import warnings\n",
    "warnings.filterwarnings('ignore')"
   ]
  },
  {
   "cell_type": "code",
   "execution_count": 2,
   "id": "22f5ef21-93d6-45c2-a64b-a1ab6b077318",
   "metadata": {},
   "outputs": [
    {
     "name": "stderr",
     "output_type": "stream",
     "text": [
      "[nltk_data] Downloading package punkt to\n",
      "[nltk_data]     /Users/treyhamilton/nltk_data...\n",
      "[nltk_data]   Package punkt is already up-to-date!\n",
      "[nltk_data] Downloading package averaged_perceptron_tagger to\n",
      "[nltk_data]     /Users/treyhamilton/nltk_data...\n",
      "[nltk_data]   Package averaged_perceptron_tagger is already up-to-\n",
      "[nltk_data]       date!\n",
      "[nltk_data] Downloading package stopwords to\n",
      "[nltk_data]     /Users/treyhamilton/nltk_data...\n",
      "[nltk_data]   Package stopwords is already up-to-date!\n",
      "[nltk_data] Downloading package tagsets to\n",
      "[nltk_data]     /Users/treyhamilton/nltk_data...\n",
      "[nltk_data]   Package tagsets is already up-to-date!\n"
     ]
    },
    {
     "data": {
      "text/plain": [
       "True"
      ]
     },
     "execution_count": 2,
     "metadata": {},
     "output_type": "execute_result"
    }
   ],
   "source": [
    "nltk.download('punkt')\n",
    "nltk.download('averaged_perceptron_tagger')\n",
    "nltk.download('stopwords')\n",
    "nltk.download('tagsets')"
   ]
  },
  {
   "cell_type": "markdown",
   "id": "85773b07-c67a-44de-ba6a-4a6d2ebf4f5e",
   "metadata": {},
   "source": [
    " F0: Source Format. The initial source format of a text, which varies by\n",
    "collection, e.g. XML (e.g. TEI and RSS), HTML, plain text (e.g.\n",
    "Gutenberg), JSON, and CSV."
   ]
  },
  {
   "cell_type": "code",
   "execution_count": 3,
   "id": "dc0420a7-0a3e-431d-98d5-969a3f6f440a",
   "metadata": {
    "tags": []
   },
   "outputs": [],
   "source": [
    "file = 'newzy.csv'"
   ]
  },
  {
   "cell_type": "code",
   "execution_count": 4,
   "id": "968eca12-22a0-4ef6-954f-064fb1a20c4f",
   "metadata": {
    "tags": []
   },
   "outputs": [],
   "source": [
    "newzy = pd.read_csv(\"newzy.csv\", sep=\"|\", header=0).set_index('doc_id')"
   ]
  },
  {
   "cell_type": "code",
   "execution_count": 5,
   "id": "5cffafcf-ad71-4577-9b81-9908757a9721",
   "metadata": {
    "tags": []
   },
   "outputs": [
    {
     "data": {
      "text/html": [
       "<div>\n",
       "<style scoped>\n",
       "    .dataframe tbody tr th:only-of-type {\n",
       "        vertical-align: middle;\n",
       "    }\n",
       "\n",
       "    .dataframe tbody tr th {\n",
       "        vertical-align: top;\n",
       "    }\n",
       "\n",
       "    .dataframe thead th {\n",
       "        text-align: right;\n",
       "    }\n",
       "</style>\n",
       "<table border=\"1\" class=\"dataframe\">\n",
       "  <thead>\n",
       "    <tr style=\"text-align: right;\">\n",
       "      <th></th>\n",
       "      <th>doc_source</th>\n",
       "      <th>doc_title</th>\n",
       "      <th>doc_content</th>\n",
       "      <th>doc_date</th>\n",
       "      <th>doc_url</th>\n",
       "    </tr>\n",
       "    <tr>\n",
       "      <th>doc_id</th>\n",
       "      <th></th>\n",
       "      <th></th>\n",
       "      <th></th>\n",
       "      <th></th>\n",
       "      <th></th>\n",
       "    </tr>\n",
       "  </thead>\n",
       "  <tbody>\n",
       "    <tr>\n",
       "      <th>39</th>\n",
       "      <td>Google News</td>\n",
       "      <td>50 Years on, Finding Profit in 'Truth' on JFK ...</td>\n",
       "      <td>Washington Post50 Years on, Finding Profit in ...</td>\n",
       "      <td>11/03/2013</td>\n",
       "      <td>http://news.google.com/news/url?sa=t&amp;fd=R&amp;usg=...</td>\n",
       "    </tr>\n",
       "    <tr>\n",
       "      <th>38</th>\n",
       "      <td>Google News</td>\n",
       "      <td>Nearly 10 years later, families and officials ...</td>\n",
       "      <td>Washington PostNearly 10 years later, families...</td>\n",
       "      <td>11/03/2013</td>\n",
       "      <td>http://news.google.com/news/url?sa=t&amp;fd=R&amp;usg=...</td>\n",
       "    </tr>\n",
       "    <tr>\n",
       "      <th>37</th>\n",
       "      <td>Google News</td>\n",
       "      <td>Cuccinelli, running hard, has been hobbled in ...</td>\n",
       "      <td>Washington PostCuccinelli, running hard, has b...</td>\n",
       "      <td>11/03/2013</td>\n",
       "      <td>http://news.google.com/news/url?sa=t&amp;fd=R&amp;usg=...</td>\n",
       "    </tr>\n",
       "    <tr>\n",
       "      <th>36</th>\n",
       "      <td>Google News</td>\n",
       "      <td>Chuck Schumer endorses Hillary Clinton for Pre...</td>\n",
       "      <td>New York Daily NewsChuck Schumer endorses Hill...</td>\n",
       "      <td>11/03/2013</td>\n",
       "      <td>http://news.google.com/news/url?sa=t&amp;fd=R&amp;usg=...</td>\n",
       "    </tr>\n",
       "    <tr>\n",
       "      <th>35</th>\n",
       "      <td>Google News</td>\n",
       "      <td>Sec. Kerry issues apparent warning to Iran - C...</td>\n",
       "      <td>Ahram OnlineSec. Kerry issues apparent warning...</td>\n",
       "      <td>11/03/2013</td>\n",
       "      <td>http://news.google.com/news/url?sa=t&amp;fd=R&amp;usg=...</td>\n",
       "    </tr>\n",
       "  </tbody>\n",
       "</table>\n",
       "</div>"
      ],
      "text/plain": [
       "         doc_source                                          doc_title  \\\n",
       "doc_id                                                                   \n",
       "39      Google News  50 Years on, Finding Profit in 'Truth' on JFK ...   \n",
       "38      Google News  Nearly 10 years later, families and officials ...   \n",
       "37      Google News  Cuccinelli, running hard, has been hobbled in ...   \n",
       "36      Google News  Chuck Schumer endorses Hillary Clinton for Pre...   \n",
       "35      Google News  Sec. Kerry issues apparent warning to Iran - C...   \n",
       "\n",
       "                                              doc_content    doc_date  \\\n",
       "doc_id                                                                  \n",
       "39      Washington Post50 Years on, Finding Profit in ...  11/03/2013   \n",
       "38      Washington PostNearly 10 years later, families...  11/03/2013   \n",
       "37      Washington PostCuccinelli, running hard, has b...  11/03/2013   \n",
       "36      New York Daily NewsChuck Schumer endorses Hill...  11/03/2013   \n",
       "35      Ahram OnlineSec. Kerry issues apparent warning...  11/03/2013   \n",
       "\n",
       "                                                  doc_url  \n",
       "doc_id                                                     \n",
       "39      http://news.google.com/news/url?sa=t&fd=R&usg=...  \n",
       "38      http://news.google.com/news/url?sa=t&fd=R&usg=...  \n",
       "37      http://news.google.com/news/url?sa=t&fd=R&usg=...  \n",
       "36      http://news.google.com/news/url?sa=t&fd=R&usg=...  \n",
       "35      http://news.google.com/news/url?sa=t&fd=R&usg=...  "
      ]
     },
     "execution_count": 5,
     "metadata": {},
     "output_type": "execute_result"
    }
   ],
   "source": [
    "newzy.head()"
   ]
  },
  {
   "cell_type": "code",
   "execution_count": 6,
   "id": "fd2440f2-a8d7-40fe-b949-4234c04da989",
   "metadata": {
    "tags": []
   },
   "outputs": [
    {
     "name": "stdout",
     "output_type": "stream",
     "text": [
      "<class 'pandas.core.frame.DataFrame'>\n",
      "Int64Index: 1026347 entries, 39 to 1026382\n",
      "Data columns (total 5 columns):\n",
      " #   Column       Non-Null Count    Dtype \n",
      "---  ------       --------------    ----- \n",
      " 0   doc_source   1025990 non-null  object\n",
      " 1   doc_title    1026344 non-null  object\n",
      " 2   doc_content  986462 non-null   object\n",
      " 3   doc_date     1025990 non-null  object\n",
      " 4   doc_url      1025989 non-null  object\n",
      "dtypes: object(5)\n",
      "memory usage: 47.0+ MB\n"
     ]
    }
   ],
   "source": [
    "newzy.info()"
   ]
  },
  {
   "cell_type": "code",
   "execution_count": 7,
   "id": "6c247971-65ab-4886-af15-cf9494c818b8",
   "metadata": {
    "tags": []
   },
   "outputs": [],
   "source": [
    "newzy = newzy.dropna()"
   ]
  },
  {
   "cell_type": "code",
   "execution_count": 8,
   "id": "b3c07647-b89a-41e0-83c1-908adb15aea2",
   "metadata": {
    "tags": []
   },
   "outputs": [
    {
     "name": "stdout",
     "output_type": "stream",
     "text": [
      "<class 'pandas.core.frame.DataFrame'>\n",
      "Int64Index: 986461 entries, 39 to 1026382\n",
      "Data columns (total 5 columns):\n",
      " #   Column       Non-Null Count   Dtype \n",
      "---  ------       --------------   ----- \n",
      " 0   doc_source   986461 non-null  object\n",
      " 1   doc_title    986461 non-null  object\n",
      " 2   doc_content  986461 non-null  object\n",
      " 3   doc_date     986461 non-null  object\n",
      " 4   doc_url      986461 non-null  object\n",
      "dtypes: object(5)\n",
      "memory usage: 45.2+ MB\n"
     ]
    }
   ],
   "source": [
    "newzy.info()"
   ]
  },
  {
   "cell_type": "code",
   "execution_count": 9,
   "id": "d759fed1-0de8-40b0-92a0-62fa0c08d5c2",
   "metadata": {
    "tags": []
   },
   "outputs": [],
   "source": [
    "newzy['doc_date'] = pd.to_datetime(newzy.doc_date)"
   ]
  },
  {
   "cell_type": "code",
   "execution_count": 10,
   "id": "6f145dae-158e-42b6-b1b0-40c29defa076",
   "metadata": {
    "tags": []
   },
   "outputs": [
    {
     "name": "stdout",
     "output_type": "stream",
     "text": [
      "<class 'pandas.core.frame.DataFrame'>\n",
      "Int64Index: 986461 entries, 39 to 1026382\n",
      "Data columns (total 5 columns):\n",
      " #   Column       Non-Null Count   Dtype         \n",
      "---  ------       --------------   -----         \n",
      " 0   doc_source   986461 non-null  object        \n",
      " 1   doc_title    986461 non-null  object        \n",
      " 2   doc_content  986461 non-null  object        \n",
      " 3   doc_date     986461 non-null  datetime64[ns]\n",
      " 4   doc_url      986461 non-null  object        \n",
      "dtypes: datetime64[ns](1), object(4)\n",
      "memory usage: 45.2+ MB\n"
     ]
    }
   ],
   "source": [
    "newzy.info()"
   ]
  },
  {
   "cell_type": "code",
   "execution_count": 11,
   "id": "1ef99bc1-7822-4c93-b029-4020584a91f6",
   "metadata": {
    "tags": []
   },
   "outputs": [
    {
     "data": {
      "text/plain": [
       "doc_source\n",
       "Breitbart              2013-11-03 to 2020-02-27\n",
       "CNN                    2013-11-03 to 2020-02-27\n",
       "Daily Kos              2013-11-03 to 2019-10-31\n",
       "Drudge Report          2013-11-03 to 2020-02-26\n",
       "Fox                    2013-11-03 to 2020-02-27\n",
       "Google News            2013-11-03 to 2020-02-27\n",
       "Guardian               2013-11-03 to 2020-02-26\n",
       "NPR                    2013-11-03 to 2020-02-27\n",
       "New York Times         2013-11-03 to 2020-02-27\n",
       "Politico Magazine      2013-11-19 to 2020-02-27\n",
       "PowerLine              2013-11-03 to 2020-02-27\n",
       "Real Clear Politics    2013-11-03 to 2020-02-27\n",
       "Reuters                2013-11-03 to 2020-02-27\n",
       "UPI Latest             2013-11-05 to 2020-02-27\n",
       "US News                2013-11-05 to 2020-02-27\n",
       "Name: doc_date, dtype: object"
      ]
     },
     "execution_count": 11,
     "metadata": {},
     "output_type": "execute_result"
    }
   ],
   "source": [
    "newzy.groupby('doc_source').doc_date.min().astype(str) + ' to ' + newzy.groupby('doc_source').doc_date.max().astype(str)"
   ]
  },
  {
   "cell_type": "code",
   "execution_count": 12,
   "id": "ad124b57-0412-4121-bf52-c1ca28d6e2cf",
   "metadata": {
    "tags": []
   },
   "outputs": [],
   "source": [
    "# newzy.groupby('doc_source').count()"
   ]
  },
  {
   "cell_type": "code",
   "execution_count": 13,
   "id": "0deec0bc-4139-4a6e-8262-13d823a21c7f",
   "metadata": {
    "tags": []
   },
   "outputs": [
    {
     "data": {
      "text/plain": [
       "doc_source\n",
       "Breitbart               10011\n",
       "CNN                     36184\n",
       "Daily Kos               12307\n",
       "Drudge Report           77063\n",
       "Fox                     58077\n",
       "Google News             64078\n",
       "Guardian                12392\n",
       "NPR                     24708\n",
       "New York Times          21145\n",
       "Politico Magazine        3324\n",
       "PowerLine                9730\n",
       "Real Clear Politics     34967\n",
       "Reuters                 18506\n",
       "UPI Latest              97804\n",
       "US News                506165\n",
       "dtype: int64"
      ]
     },
     "execution_count": 13,
     "metadata": {},
     "output_type": "execute_result"
    }
   ],
   "source": [
    "#how many articles do each news source have?\n",
    "newzy.groupby('doc_source').count().max(axis=1)"
   ]
  },
  {
   "cell_type": "markdown",
   "id": "cd2e55af-027e-4875-a3d6-f70321cb904a",
   "metadata": {},
   "source": [
    "F1: Machine Learning Corpus Format (MLCF). Ideally a table of\n",
    "minimum discursive units indexed by document content hierarchy."
   ]
  },
  {
   "cell_type": "code",
   "execution_count": 14,
   "id": "6d5edee0-5966-4c9c-8dd7-0e4fb7d45a82",
   "metadata": {
    "tags": []
   },
   "outputs": [],
   "source": [
    "#all doc_content hold no more than 1 paragraph.\n",
    "OHCO = ['doc_source', 'doc_id', 'doc_title', 'sent_num', 'token_num']"
   ]
  },
  {
   "cell_type": "code",
   "execution_count": 15,
   "id": "af8e7d44-96c4-419e-ae0b-64be5adba227",
   "metadata": {
    "tags": []
   },
   "outputs": [],
   "source": [
    "def CREATE_LIB_DOC(df, OHCO=OHCO):    \n",
    "    df.doc_content = df.doc_content.str.strip()\n",
    "    \n",
    "    # FIX CHARACTERS TO IMPROVE TOKENIZATION, Professor states this helps nltk parse text.\n",
    "    df.doc_content = df.doc_content.str.replace('—', ' — ')\n",
    "    df.doc_content = df.doc_content.str.replace('-', ' - ')\n",
    "    \n",
    "    #all doc_content hold no more than 1 paragraph.\n",
    "    df['doc_content'] = df['doc_content'].str.replace(r'\\n', ' ').str.strip()\n",
    "    df = df[~df['doc_content'].isna()]\n",
    "    df = df[~df['doc_content'].str.match(r'^\\s*$', na=False)] # Remove empty paragraphs\n",
    "    \n",
    "    library = df[['doc_source', 'doc_title', 'doc_date', 'doc_url']]\n",
    "    \n",
    "    df = df.reset_index().set_index(OHCO[:3])\n",
    "    df = df.drop(columns=['doc_date', 'doc_url'])\n",
    "    docs = df\n",
    "    return library, docs"
   ]
  },
  {
   "cell_type": "code",
   "execution_count": 16,
   "id": "4ab80bd8-d28b-4ca7-aa79-56b8871a8eed",
   "metadata": {
    "tags": []
   },
   "outputs": [],
   "source": [
    "LIB, DOC = CREATE_LIB_DOC(newzy)"
   ]
  },
  {
   "cell_type": "code",
   "execution_count": 17,
   "id": "754b6ca5-ce6e-47aa-a9a3-8614ca2c9154",
   "metadata": {
    "tags": []
   },
   "outputs": [
    {
     "data": {
      "text/html": [
       "<div>\n",
       "<style scoped>\n",
       "    .dataframe tbody tr th:only-of-type {\n",
       "        vertical-align: middle;\n",
       "    }\n",
       "\n",
       "    .dataframe tbody tr th {\n",
       "        vertical-align: top;\n",
       "    }\n",
       "\n",
       "    .dataframe thead th {\n",
       "        text-align: right;\n",
       "    }\n",
       "</style>\n",
       "<table border=\"1\" class=\"dataframe\">\n",
       "  <thead>\n",
       "    <tr style=\"text-align: right;\">\n",
       "      <th></th>\n",
       "      <th>doc_source</th>\n",
       "      <th>doc_title</th>\n",
       "      <th>doc_date</th>\n",
       "      <th>doc_url</th>\n",
       "    </tr>\n",
       "    <tr>\n",
       "      <th>doc_id</th>\n",
       "      <th></th>\n",
       "      <th></th>\n",
       "      <th></th>\n",
       "      <th></th>\n",
       "    </tr>\n",
       "  </thead>\n",
       "  <tbody>\n",
       "    <tr>\n",
       "      <th>39</th>\n",
       "      <td>Google News</td>\n",
       "      <td>50 Years on, Finding Profit in 'Truth' on JFK ...</td>\n",
       "      <td>2013-11-03</td>\n",
       "      <td>http://news.google.com/news/url?sa=t&amp;fd=R&amp;usg=...</td>\n",
       "    </tr>\n",
       "    <tr>\n",
       "      <th>38</th>\n",
       "      <td>Google News</td>\n",
       "      <td>Nearly 10 years later, families and officials ...</td>\n",
       "      <td>2013-11-03</td>\n",
       "      <td>http://news.google.com/news/url?sa=t&amp;fd=R&amp;usg=...</td>\n",
       "    </tr>\n",
       "    <tr>\n",
       "      <th>37</th>\n",
       "      <td>Google News</td>\n",
       "      <td>Cuccinelli, running hard, has been hobbled in ...</td>\n",
       "      <td>2013-11-03</td>\n",
       "      <td>http://news.google.com/news/url?sa=t&amp;fd=R&amp;usg=...</td>\n",
       "    </tr>\n",
       "    <tr>\n",
       "      <th>36</th>\n",
       "      <td>Google News</td>\n",
       "      <td>Chuck Schumer endorses Hillary Clinton for Pre...</td>\n",
       "      <td>2013-11-03</td>\n",
       "      <td>http://news.google.com/news/url?sa=t&amp;fd=R&amp;usg=...</td>\n",
       "    </tr>\n",
       "    <tr>\n",
       "      <th>35</th>\n",
       "      <td>Google News</td>\n",
       "      <td>Sec. Kerry issues apparent warning to Iran - C...</td>\n",
       "      <td>2013-11-03</td>\n",
       "      <td>http://news.google.com/news/url?sa=t&amp;fd=R&amp;usg=...</td>\n",
       "    </tr>\n",
       "    <tr>\n",
       "      <th>34</th>\n",
       "      <td>Google News</td>\n",
       "      <td>Japanese Civil Servant Runs Marathon for Fun, ...</td>\n",
       "      <td>2013-11-03</td>\n",
       "      <td>http://news.google.com/news/url?sa=t&amp;fd=R&amp;usg=...</td>\n",
       "    </tr>\n",
       "    <tr>\n",
       "      <th>33</th>\n",
       "      <td>Google News</td>\n",
       "      <td>ObamaCare architect defends plan, says preside...</td>\n",
       "      <td>2013-11-03</td>\n",
       "      <td>http://news.google.com/news/url?sa=t&amp;fd=R&amp;usg=...</td>\n",
       "    </tr>\n",
       "    <tr>\n",
       "      <th>32</th>\n",
       "      <td>Google News</td>\n",
       "      <td>Prosecutor: LAX suspect shot TSA officer, left...</td>\n",
       "      <td>2013-11-03</td>\n",
       "      <td>http://news.google.com/news/url?sa=t&amp;fd=R&amp;usg=...</td>\n",
       "    </tr>\n",
       "    <tr>\n",
       "      <th>31</th>\n",
       "      <td>Google News</td>\n",
       "      <td>Bangladesh finds UK and US accused guilty of w...</td>\n",
       "      <td>2013-11-03</td>\n",
       "      <td>http://news.google.com/news/url?sa=t&amp;fd=R&amp;usg=...</td>\n",
       "    </tr>\n",
       "    <tr>\n",
       "      <th>30</th>\n",
       "      <td>Google News</td>\n",
       "      <td>Two French journalists kidnapped and killed in...</td>\n",
       "      <td>2013-11-03</td>\n",
       "      <td>http://news.google.com/news/url?sa=t&amp;fd=R&amp;usg=...</td>\n",
       "    </tr>\n",
       "    <tr>\n",
       "      <th>29</th>\n",
       "      <td>Google News</td>\n",
       "      <td>eBay apologises for selling Holocaust memorabi...</td>\n",
       "      <td>2013-11-03</td>\n",
       "      <td>http://news.google.com/news/url?sa=t&amp;fd=R&amp;usg=...</td>\n",
       "    </tr>\n",
       "    <tr>\n",
       "      <th>28</th>\n",
       "      <td>Google News</td>\n",
       "      <td>Sen. Chuck Schumer endorses Clinton for presid...</td>\n",
       "      <td>2013-11-03</td>\n",
       "      <td>http://news.google.com/news/url?sa=t&amp;fd=R&amp;usg=...</td>\n",
       "    </tr>\n",
       "    <tr>\n",
       "      <th>27</th>\n",
       "      <td>Google News</td>\n",
       "      <td>US has 'scuttled' Taliban talks with drone str...</td>\n",
       "      <td>2013-11-03</td>\n",
       "      <td>http://news.google.com/news/url?sa=t&amp;fd=R&amp;usg=...</td>\n",
       "    </tr>\n",
       "    <tr>\n",
       "      <th>26</th>\n",
       "      <td>Google News</td>\n",
       "      <td>A long, and overdue, end near for Virginia's b...</td>\n",
       "      <td>2013-11-03</td>\n",
       "      <td>http://news.google.com/news/url?sa=t&amp;fd=R&amp;usg=...</td>\n",
       "    </tr>\n",
       "    <tr>\n",
       "      <th>25</th>\n",
       "      <td>Google News</td>\n",
       "      <td>HealthCare.gov: How political fear was pitted ...</td>\n",
       "      <td>2013-11-03</td>\n",
       "      <td>http://news.google.com/news/url?sa=t&amp;fd=R&amp;usg=...</td>\n",
       "    </tr>\n",
       "    <tr>\n",
       "      <th>24</th>\n",
       "      <td>Google News</td>\n",
       "      <td>Kerry sees signs of Egypt moving back towards ...</td>\n",
       "      <td>2013-11-03</td>\n",
       "      <td>http://news.google.com/news/url?sa=t&amp;fd=R&amp;usg=...</td>\n",
       "    </tr>\n",
       "    <tr>\n",
       "      <th>23</th>\n",
       "      <td>Google News</td>\n",
       "      <td>Boston bombings change preparations for NYC ma...</td>\n",
       "      <td>2013-11-03</td>\n",
       "      <td>http://news.google.com/news/url?sa=t&amp;fd=R&amp;usg=...</td>\n",
       "    </tr>\n",
       "    <tr>\n",
       "      <th>22</th>\n",
       "      <td>Google News</td>\n",
       "      <td>Slain LAX TSA officer remembered as a family m...</td>\n",
       "      <td>2013-11-03</td>\n",
       "      <td>http://news.google.com/news/url?sa=t&amp;fd=R&amp;usg=...</td>\n",
       "    </tr>\n",
       "    <tr>\n",
       "      <th>40</th>\n",
       "      <td>Google News</td>\n",
       "      <td>College presidents find that smaller jobs can ...</td>\n",
       "      <td>2013-11-03</td>\n",
       "      <td>http://news.google.com/news/url?sa=t&amp;fd=R&amp;usg=...</td>\n",
       "    </tr>\n",
       "    <tr>\n",
       "      <th>41</th>\n",
       "      <td>Google News</td>\n",
       "      <td>Pakistani Taliban Names Interim Chief - Voice ...</td>\n",
       "      <td>2013-11-03</td>\n",
       "      <td>http://news.google.com/news/url?sa=t&amp;fd=R&amp;usg=...</td>\n",
       "    </tr>\n",
       "  </tbody>\n",
       "</table>\n",
       "</div>"
      ],
      "text/plain": [
       "         doc_source                                          doc_title  \\\n",
       "doc_id                                                                   \n",
       "39      Google News  50 Years on, Finding Profit in 'Truth' on JFK ...   \n",
       "38      Google News  Nearly 10 years later, families and officials ...   \n",
       "37      Google News  Cuccinelli, running hard, has been hobbled in ...   \n",
       "36      Google News  Chuck Schumer endorses Hillary Clinton for Pre...   \n",
       "35      Google News  Sec. Kerry issues apparent warning to Iran - C...   \n",
       "34      Google News  Japanese Civil Servant Runs Marathon for Fun, ...   \n",
       "33      Google News  ObamaCare architect defends plan, says preside...   \n",
       "32      Google News  Prosecutor: LAX suspect shot TSA officer, left...   \n",
       "31      Google News  Bangladesh finds UK and US accused guilty of w...   \n",
       "30      Google News  Two French journalists kidnapped and killed in...   \n",
       "29      Google News  eBay apologises for selling Holocaust memorabi...   \n",
       "28      Google News  Sen. Chuck Schumer endorses Clinton for presid...   \n",
       "27      Google News  US has 'scuttled' Taliban talks with drone str...   \n",
       "26      Google News  A long, and overdue, end near for Virginia's b...   \n",
       "25      Google News  HealthCare.gov: How political fear was pitted ...   \n",
       "24      Google News  Kerry sees signs of Egypt moving back towards ...   \n",
       "23      Google News  Boston bombings change preparations for NYC ma...   \n",
       "22      Google News  Slain LAX TSA officer remembered as a family m...   \n",
       "40      Google News  College presidents find that smaller jobs can ...   \n",
       "41      Google News  Pakistani Taliban Names Interim Chief - Voice ...   \n",
       "\n",
       "         doc_date                                            doc_url  \n",
       "doc_id                                                                \n",
       "39     2013-11-03  http://news.google.com/news/url?sa=t&fd=R&usg=...  \n",
       "38     2013-11-03  http://news.google.com/news/url?sa=t&fd=R&usg=...  \n",
       "37     2013-11-03  http://news.google.com/news/url?sa=t&fd=R&usg=...  \n",
       "36     2013-11-03  http://news.google.com/news/url?sa=t&fd=R&usg=...  \n",
       "35     2013-11-03  http://news.google.com/news/url?sa=t&fd=R&usg=...  \n",
       "34     2013-11-03  http://news.google.com/news/url?sa=t&fd=R&usg=...  \n",
       "33     2013-11-03  http://news.google.com/news/url?sa=t&fd=R&usg=...  \n",
       "32     2013-11-03  http://news.google.com/news/url?sa=t&fd=R&usg=...  \n",
       "31     2013-11-03  http://news.google.com/news/url?sa=t&fd=R&usg=...  \n",
       "30     2013-11-03  http://news.google.com/news/url?sa=t&fd=R&usg=...  \n",
       "29     2013-11-03  http://news.google.com/news/url?sa=t&fd=R&usg=...  \n",
       "28     2013-11-03  http://news.google.com/news/url?sa=t&fd=R&usg=...  \n",
       "27     2013-11-03  http://news.google.com/news/url?sa=t&fd=R&usg=...  \n",
       "26     2013-11-03  http://news.google.com/news/url?sa=t&fd=R&usg=...  \n",
       "25     2013-11-03  http://news.google.com/news/url?sa=t&fd=R&usg=...  \n",
       "24     2013-11-03  http://news.google.com/news/url?sa=t&fd=R&usg=...  \n",
       "23     2013-11-03  http://news.google.com/news/url?sa=t&fd=R&usg=...  \n",
       "22     2013-11-03  http://news.google.com/news/url?sa=t&fd=R&usg=...  \n",
       "40     2013-11-03  http://news.google.com/news/url?sa=t&fd=R&usg=...  \n",
       "41     2013-11-03  http://news.google.com/news/url?sa=t&fd=R&usg=...  "
      ]
     },
     "execution_count": 17,
     "metadata": {},
     "output_type": "execute_result"
    }
   ],
   "source": [
    "LIB.head(20)"
   ]
  },
  {
   "cell_type": "code",
   "execution_count": 18,
   "id": "3457fd65-2413-44c6-a70c-6219ebab509f",
   "metadata": {
    "tags": []
   },
   "outputs": [
    {
     "data": {
      "text/html": [
       "<div>\n",
       "<style scoped>\n",
       "    .dataframe tbody tr th:only-of-type {\n",
       "        vertical-align: middle;\n",
       "    }\n",
       "\n",
       "    .dataframe tbody tr th {\n",
       "        vertical-align: top;\n",
       "    }\n",
       "\n",
       "    .dataframe thead th {\n",
       "        text-align: right;\n",
       "    }\n",
       "</style>\n",
       "<table border=\"1\" class=\"dataframe\">\n",
       "  <thead>\n",
       "    <tr style=\"text-align: right;\">\n",
       "      <th></th>\n",
       "      <th></th>\n",
       "      <th></th>\n",
       "      <th>doc_content</th>\n",
       "    </tr>\n",
       "    <tr>\n",
       "      <th>doc_source</th>\n",
       "      <th>doc_id</th>\n",
       "      <th>doc_title</th>\n",
       "      <th></th>\n",
       "    </tr>\n",
       "  </thead>\n",
       "  <tbody>\n",
       "    <tr>\n",
       "      <th rowspan=\"20\" valign=\"top\">Google News</th>\n",
       "      <th>39</th>\n",
       "      <th>50 Years on, Finding Profit in 'Truth' on JFK Case - ABC News</th>\n",
       "      <td>Washington Post50 Years on, Finding Profit in ...</td>\n",
       "    </tr>\n",
       "    <tr>\n",
       "      <th>38</th>\n",
       "      <th>Nearly 10 years later, families and officials still search for answers in SC bike ... - Fox News</th>\n",
       "      <td>Washington PostNearly 10 years later, families...</td>\n",
       "    </tr>\n",
       "    <tr>\n",
       "      <th>37</th>\n",
       "      <th>Cuccinelli, running hard, has been hobbled in race - Roanoke Times</th>\n",
       "      <td>Washington PostCuccinelli, running hard, has b...</td>\n",
       "    </tr>\n",
       "    <tr>\n",
       "      <th>36</th>\n",
       "      <th>Chuck Schumer endorses Hillary Clinton for President in 2016 - New York Daily News</th>\n",
       "      <td>New York Daily NewsChuck Schumer endorses Hill...</td>\n",
       "    </tr>\n",
       "    <tr>\n",
       "      <th>35</th>\n",
       "      <th>Sec. Kerry issues apparent warning to Iran - CBS News</th>\n",
       "      <td>Ahram OnlineSec. Kerry issues apparent warning...</td>\n",
       "    </tr>\n",
       "    <tr>\n",
       "      <th>34</th>\n",
       "      <th>Japanese Civil Servant Runs Marathon for Fun, Not Profit - New York Times</th>\n",
       "      <td>New York Daily NewsJapanese Civil Servant Runs...</td>\n",
       "    </tr>\n",
       "    <tr>\n",
       "      <th>33</th>\n",
       "      <th>ObamaCare architect defends plan, says president not to blame for rollout glitches - Fox News</th>\n",
       "      <td>Washington PostObamaCare architect defends pla...</td>\n",
       "    </tr>\n",
       "    <tr>\n",
       "      <th>32</th>\n",
       "      <th>Prosecutor: LAX suspect shot TSA officer, left, returned to shoot him again - CNN</th>\n",
       "      <td>ABC NewsProsecutor: LAX suspect shot TSA offic...</td>\n",
       "    </tr>\n",
       "    <tr>\n",
       "      <th>31</th>\n",
       "      <th>Bangladesh finds UK and US accused guilty of war crimes - BBC News</th>\n",
       "      <td>BBC NewsBangladesh finds UK and US accused gui...</td>\n",
       "    </tr>\n",
       "    <tr>\n",
       "      <th>30</th>\n",
       "      <th>Two French journalists kidnapped and killed in Mali - Irish Times</th>\n",
       "      <td>AFPTwo French journalists kidnapped and killed...</td>\n",
       "    </tr>\n",
       "    <tr>\n",
       "      <th>29</th>\n",
       "      <th>eBay apologises for selling Holocaust memorabilia - Telegraph.co.uk</th>\n",
       "      <td>Telegraph.co.ukeBay apologises for selling Hol...</td>\n",
       "    </tr>\n",
       "    <tr>\n",
       "      <th>28</th>\n",
       "      <th>Sen. Chuck Schumer endorses Clinton for president - USA TODAY</th>\n",
       "      <td>New York Daily NewsSen. Chuck Schumer endorses...</td>\n",
       "    </tr>\n",
       "    <tr>\n",
       "      <th>27</th>\n",
       "      <th>US has 'scuttled' Taliban talks with drone strike: Pakistan minister - Hindustan Times</th>\n",
       "      <td>IBNLiveUS has 'scuttled' Taliban talks with dr...</td>\n",
       "    </tr>\n",
       "    <tr>\n",
       "      <th>26</th>\n",
       "      <th>A long, and overdue, end near for Virginia's bitter governor race - blueridgemuse</th>\n",
       "      <td>Washington PostA long, and overdue, end near f...</td>\n",
       "    </tr>\n",
       "    <tr>\n",
       "      <th>25</th>\n",
       "      <th>HealthCare.gov: How political fear was pitted against technical needs - Washington Post</th>\n",
       "      <td>Voice of AmericaHealthCare.gov: How political ...</td>\n",
       "    </tr>\n",
       "    <tr>\n",
       "      <th>24</th>\n",
       "      <th>Kerry sees signs of Egypt moving back towards democracy - Reuters</th>\n",
       "      <td>The GuardianKerry sees signs of Egypt moving b...</td>\n",
       "    </tr>\n",
       "    <tr>\n",
       "      <th>23</th>\n",
       "      <th>Boston bombings change preparations for NYC marathon - CBS News</th>\n",
       "      <td>NPRBoston bombings change preparations for NYC...</td>\n",
       "    </tr>\n",
       "    <tr>\n",
       "      <th>22</th>\n",
       "      <th>Slain LAX TSA officer remembered as a family man - USA TODAY</th>\n",
       "      <td>ABC NewsSlain LAX TSA officer remembered as a ...</td>\n",
       "    </tr>\n",
       "    <tr>\n",
       "      <th>40</th>\n",
       "      <th>College presidents find that smaller jobs can be better, especially after sports ... - Washington Post</th>\n",
       "      <td>Washington PostCollege presidents find that sm...</td>\n",
       "    </tr>\n",
       "    <tr>\n",
       "      <th>41</th>\n",
       "      <th>Pakistani Taliban Names Interim Chief - Voice of America</th>\n",
       "      <td>Telegraph.co.ukPakistani Taliban Names Interim...</td>\n",
       "    </tr>\n",
       "  </tbody>\n",
       "</table>\n",
       "</div>"
      ],
      "text/plain": [
       "                                                                                                             doc_content\n",
       "doc_source  doc_id doc_title                                                                                            \n",
       "Google News 39     50 Years on, Finding Profit in 'Truth' on JFK C...  Washington Post50 Years on, Finding Profit in ...\n",
       "            38     Nearly 10 years later, families and officials s...  Washington PostNearly 10 years later, families...\n",
       "            37     Cuccinelli, running hard, has been hobbled in r...  Washington PostCuccinelli, running hard, has b...\n",
       "            36     Chuck Schumer endorses Hillary Clinton for Pres...  New York Daily NewsChuck Schumer endorses Hill...\n",
       "            35     Sec. Kerry issues apparent warning to Iran - CB...  Ahram OnlineSec. Kerry issues apparent warning...\n",
       "            34     Japanese Civil Servant Runs Marathon for Fun, N...  New York Daily NewsJapanese Civil Servant Runs...\n",
       "            33     ObamaCare architect defends plan, says presiden...  Washington PostObamaCare architect defends pla...\n",
       "            32     Prosecutor: LAX suspect shot TSA officer, left,...  ABC NewsProsecutor: LAX suspect shot TSA offic...\n",
       "            31     Bangladesh finds UK and US accused guilty of wa...  BBC NewsBangladesh finds UK and US accused gui...\n",
       "            30     Two French journalists kidnapped and killed in ...  AFPTwo French journalists kidnapped and killed...\n",
       "            29     eBay apologises for selling Holocaust memorabil...  Telegraph.co.ukeBay apologises for selling Hol...\n",
       "            28     Sen. Chuck Schumer endorses Clinton for preside...  New York Daily NewsSen. Chuck Schumer endorses...\n",
       "            27     US has 'scuttled' Taliban talks with drone stri...  IBNLiveUS has 'scuttled' Taliban talks with dr...\n",
       "            26     A long, and overdue, end near for Virginia's bi...  Washington PostA long, and overdue, end near f...\n",
       "            25     HealthCare.gov: How political fear was pitted a...  Voice of AmericaHealthCare.gov: How political ...\n",
       "            24     Kerry sees signs of Egypt moving back towards d...  The GuardianKerry sees signs of Egypt moving b...\n",
       "            23     Boston bombings change preparations for NYC mar...  NPRBoston bombings change preparations for NYC...\n",
       "            22     Slain LAX TSA officer remembered as a family ma...  ABC NewsSlain LAX TSA officer remembered as a ...\n",
       "            40     College presidents find that smaller jobs can b...  Washington PostCollege presidents find that sm...\n",
       "            41     Pakistani Taliban Names Interim Chief - Voice o...  Telegraph.co.ukPakistani Taliban Names Interim..."
      ]
     },
     "execution_count": 18,
     "metadata": {},
     "output_type": "execute_result"
    }
   ],
   "source": [
    "DOC.head(20)"
   ]
  },
  {
   "cell_type": "code",
   "execution_count": 19,
   "id": "9eae4564-e82b-495b-996d-ca8120bef822",
   "metadata": {
    "tags": []
   },
   "outputs": [],
   "source": [
    "#tokenize function\n",
    "def tokenize(doc_df, OHCO=OHCO, remove_pos_tuple=False, ws=False):\n",
    "    \n",
    "    # Paragraphs to Sentences\n",
    "    df = doc_df.doc_content\\\n",
    "        .apply(lambda x: pd.Series(nltk.sent_tokenize(x)))\\\n",
    "        .stack()\\\n",
    "        .to_frame()\\\n",
    "        .rename(columns={0:'sent_str'})\n",
    "    \n",
    "    # Sentences to Tokens\n",
    "    # Local function to pick tokenizer\n",
    "    def word_tokenize(x):\n",
    "        if ws:\n",
    "            s = pd.Series(nltk.pos_tag(nltk.WhitespaceTokenizer().tokenize(x)))\n",
    "        else:\n",
    "            s = pd.Series(nltk.pos_tag(nltk.word_tokenize(x)))\n",
    "        return s\n",
    "            \n",
    "    df = df.sent_str\\\n",
    "        .apply(word_tokenize)\\\n",
    "        .stack()\\\n",
    "        .to_frame()\\\n",
    "        .rename(columns={0:'pos_tuple'})\n",
    "    \n",
    "    # Grab info from tuple\n",
    "    df['pos'] = df.pos_tuple.apply(lambda x: x[1])\n",
    "    df['token_str'] = df.pos_tuple.apply(lambda x: x[0])\n",
    "    if remove_pos_tuple:\n",
    "        df = df.drop('pos_tuple', 1)\n",
    "    \n",
    "    # Add index\n",
    "    df.index.names = OHCO\n",
    "    \n",
    "    return df"
   ]
  },
  {
   "cell_type": "code",
   "execution_count": null,
   "id": "9d3a684a-a15c-4d0d-bb73-b30207dc1e19",
   "metadata": {
    "tags": []
   },
   "outputs": [],
   "source": [
    "TOKEN = tokenize(DOC, ws = True)"
   ]
  },
  {
   "cell_type": "code",
   "execution_count": null,
   "id": "8b5f9555-975e-4e81-b259-6dbdce9e6474",
   "metadata": {
    "tags": []
   },
   "outputs": [],
   "source": [
    "TOKEN.head()"
   ]
  },
  {
   "cell_type": "code",
   "execution_count": null,
   "id": "85000918-19d6-4bdd-9544-94fbc10dfab5",
   "metadata": {},
   "outputs": [],
   "source": [
    "#lowercase token and replace any non-alphanumeric character with \"\"\n",
    "TOKEN['term_str'] = TOKEN['token_str'].str.lower().str.replace('[\\W_]', '')\n",
    "TOKEN"
   ]
  },
  {
   "cell_type": "code",
   "execution_count": null,
   "id": "230a243f-4e97-41e0-848b-e1b800f24925",
   "metadata": {},
   "outputs": [],
   "source": [
    "TOKEN = TOKEN.dropna()\n",
    "TOKEN"
   ]
  },
  {
   "cell_type": "code",
   "execution_count": null,
   "id": "4a308c2d-2a1c-4d9a-a637-6b05577a97e8",
   "metadata": {},
   "outputs": [],
   "source": [
    "#count the number of distinct terms and the number of times they occur and put them into a new dataframe.\n",
    "VOCAB = TOKEN.term_str.value_counts().to_frame().rename(columns={'index':'term_str', 'term_str':'n'})\\\n",
    "    .sort_index().reset_index().rename(columns={'index':'term_str'})\n",
    "VOCAB.index.name = 'term_id'\n",
    "\n",
    "#Check if term is a int\n",
    "VOCAB['num'] = VOCAB.term_str.str.match(\"\\d+\").astype('int')"
   ]
  },
  {
   "cell_type": "code",
   "execution_count": null,
   "id": "5a7974a1-25fa-4f76-a167-854814eae72b",
   "metadata": {},
   "outputs": [],
   "source": [
    "VOCAB"
   ]
  },
  {
   "cell_type": "code",
   "execution_count": null,
   "id": "05db64be-1358-4ab4-9938-486f52a00e9f",
   "metadata": {},
   "outputs": [],
   "source": [
    "#Create a dataframe of stop words\n",
    "sw = pd.DataFrame(nltk.corpus.stopwords.words('english'), columns=['term_str'])\n",
    "sw = sw.reset_index().set_index('term_str')\n",
    "sw.columns = ['dummy']\n",
    "sw.dummy = 1"
   ]
  },
  {
   "cell_type": "code",
   "execution_count": null,
   "id": "2dfb2607-e577-4278-82e3-d501cf501bcb",
   "metadata": {},
   "outputs": [],
   "source": [
    "#map stop words with terms to determine which words are stop words.\n",
    "VOCAB['stop'] = VOCAB.term_str.map(sw.dummy)\n",
    "VOCAB['stop'] = VOCAB['stop'].fillna(0).astype('int')"
   ]
  },
  {
   "cell_type": "code",
   "execution_count": null,
   "id": "fd9460b8-3404-4881-a6bf-cd259dc7ba50",
   "metadata": {},
   "outputs": [],
   "source": [
    "VOCAB[VOCAB.stop == 1].sample(10)"
   ]
  },
  {
   "cell_type": "code",
   "execution_count": null,
   "id": "3964effb-5a4f-48cb-9034-1f3d07bc1f68",
   "metadata": {},
   "outputs": [],
   "source": [
    "from nltk.stem.porter import PorterStemmer\n",
    "\n",
    "#determine stems of all words\n",
    "stemmer = PorterStemmer()\n",
    "VOCAB['p_stem'] = VOCAB.term_str.apply(stemmer.stem)"
   ]
  },
  {
   "cell_type": "code",
   "execution_count": null,
   "id": "594e0727-7e1b-42aa-9244-e96ee011e646",
   "metadata": {},
   "outputs": [],
   "source": [
    "VOCAB.sample(10)"
   ]
  },
  {
   "cell_type": "code",
   "execution_count": null,
   "id": "ec55d12e-a432-4add-a1d2-c61649b8ce8e",
   "metadata": {},
   "outputs": [],
   "source": [
    "TOKEN['term_id'] = TOKEN.term_str.map(VOCAB.reset_index().set_index('term_str').term_id)\n",
    "TOKEN"
   ]
  },
  {
   "cell_type": "code",
   "execution_count": null,
   "id": "9ba0fe7a-f0bc-485f-a992-62e95ce24bfe",
   "metadata": {},
   "outputs": [],
   "source": [
    "#contains the most frequently associated part-of-speech tag, as found in the TOKEN table, with each term.\n",
    "VOCAB['pos_max'] = TOKEN.groupby(['term_id', 'pos']).count().iloc[:,0].unstack().idxmax(1)"
   ]
  },
  {
   "cell_type": "code",
   "execution_count": null,
   "id": "8bae0908-eb87-4ceb-b932-fd248a374c73",
   "metadata": {},
   "outputs": [],
   "source": [
    "VOCAB.sample(10)"
   ]
  },
  {
   "cell_type": "code",
   "execution_count": null,
   "id": "2ed1cc6b-7456-422b-a0dd-e03f83e49afa",
   "metadata": {
    "tags": []
   },
   "outputs": [],
   "source": [
    "#save as csv\n",
    "#when these are saved as csv, certain term strings don't get saved properly and turn N/A. Will try to avoid reloading data but this does happens if you do reload. Not sure how to fix.\n",
    "DOC.to_csv('DOC.csv')\n",
    "LIB.to_csv('LIB.csv')\n",
    "VOCAB.to_csv('VOCAB.csv')\n",
    "TOKEN.to_csv('TOKEN.csv')"
   ]
  }
 ],
 "metadata": {
  "kernelspec": {
   "display_name": "Python 3 (ipykernel)",
   "language": "python",
   "name": "python3"
  },
  "language_info": {
   "codemirror_mode": {
    "name": "ipython",
    "version": 3
   },
   "file_extension": ".py",
   "mimetype": "text/x-python",
   "name": "python",
   "nbconvert_exporter": "python",
   "pygments_lexer": "ipython3",
   "version": "3.11.3"
  }
 },
 "nbformat": 4,
 "nbformat_minor": 5
}
